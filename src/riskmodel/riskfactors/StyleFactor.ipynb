{
 "cells": [
  {
   "cell_type": "markdown",
   "metadata": {},
   "source": [
    "<font face=\"黑体\" size=6>风格因子计算方法</font>"
   ]
  },
  {
   "cell_type": "code",
   "execution_count": 1,
   "metadata": {},
   "outputs": [
    {
     "name": "stdout",
     "output_type": "stream",
     "text": [
      "Populating the interactive namespace from numpy and matplotlib\n"
     ]
    },
    {
     "name": "stderr",
     "output_type": "stream",
     "text": [
      "/Users/davidyujun/anaconda3/lib/python3.6/site-packages/statsmodels/compat/pandas.py:56: FutureWarning: The pandas.core.datetools module is deprecated and will be removed in a future version. Please use the pandas.tseries module instead.\n",
      "  from pandas.core import datetools\n"
     ]
    }
   ],
   "source": [
    "%pylab inline --no-import-all\n",
    "from pathlib import Path\n",
    "import pandas as pd\n",
    "import numpy as np\n",
    "from pandas import DataFrame\n",
    "from pandas import Series\n",
    "import statsmodels.api as sm"
   ]
  },
  {
   "cell_type": "markdown",
   "metadata": {},
   "source": [
    "# Size(市值因子)\n",
    "\n",
    "　　定义：　　1.0 * LNCAP\n",
    "\n",
    "　　LNCAP　　<span style=\"border-bottom:2px solid black\">Natural log of market cap</span>\n",
    "\n",
    "　　　　　　　Given by the logarithm of the total market capitalization of the firm."
   ]
  },
  {
   "cell_type": "code",
   "execution_count": null,
   "metadata": {
    "collapsed": true
   },
   "outputs": [],
   "source": []
  },
  {
   "cell_type": "markdown",
   "metadata": {},
   "source": [
    "# Beta(贝塔因子)\n",
    "\n",
    "　　Definition:　　1.0 * BETA\n",
    "\n",
    "　　BETA　　　　Beta($\\beta$)\n",
    "\n",
    "Computed as the slope coefficient in a time-series regression of excess stock return, $r_t-r_{ft}$, against the cap-weighted excess return of the estimation universe $R_t$,\n",
    "$$r_t - r_{ft} = \\alpha + \\beta R_t+e_t\\tag{1}$$\n",
    "The regression coefficients are estimated over thr trailling 252 days of returns with a half-life of 63 trading days.\n",
    "\n",
    "其中$r_ft$是无风险收益率日序列，$r_t$是股票收益率日序列，$R_t$是市值加权指数(如中证全指、万德全A指数)超额收益序列，回归系数采取过去252个交易日的收益数据，采用指数加权移动平均算法，半衰期为63个交易日（时间越接近权重越大）\n",
    "\n",
    "按照普通最小二乘法，对于参数的估计为：\n",
    "$$\\beta=\\frac{Cov(x,y)}{Var(x)}=\\frac{\\sum_{i=1}^n(x_i-\\bar{x})(y_i-\\bar{y})}{\\sum_{i=1}^n(x_i-\\bar{x})^2}$$\n",
    "\n",
    "指数加权移动平均(Exponentially Weighted Moving Average, EWMA)，是BARRA model中常用的一种加权方式，按照时间远近呈指数衰减，按照指数加权移动平均，对于参数的估计为：\n",
    "$$\\beta=\\frac{\\sum_{i=0}^tw_i(x_i-\\bar{x})(y_i-\\bar{y})}{\\sum_{i=0}^tw_i(x_i-\\bar{x})^2}$$\n",
    "其中，$t$是数据的时间长度减去1，这里为252，$x_t$是距离现金最近的数据，其权重为$w_0$。指数加权移动平均算法见[附录](#appendix)。\n",
    "## 计算示例"
   ]
  },
  {
   "cell_type": "code",
   "execution_count": 40,
   "metadata": {},
   "outputs": [
    {
     "data": {
      "text/plain": [
       "array([0.00108207, 1.02427672])"
      ]
     },
     "execution_count": 40,
     "metadata": {},
     "output_type": "execute_result"
    }
   ],
   "source": [
    "secu_code = 'SH600036'\n",
    "benchmark_code = 'SH000001'\n",
    "calc_date = '2017-12-29'\n",
    "days=252\n",
    "# 取得个股复权行情数据\n",
    "quote_header = ['code','date','open','high','low','close','vol','amount','turnover1','turnvoer2','factor']\n",
    "quote_data_path = Path('/Volumes/DB/FactorDB/ElementaryFactor/mkt_daily_FQ/', '%s.csv' % secu_code)\n",
    "df_secu_quote = pd.read_csv(quote_data_path,names=quote_header,header=0)\n",
    "# 使用过去252个交易日的复权行情数据\n",
    "df_secu_quote = df_secu_quote[df_secu_quote.date <= calc_date].tail(days+1)\n",
    "df_secu_quote.reset_index(drop=True, inplace=True)\n",
    "# 计算个股的日收益率序列\n",
    "arr_close = np.array(df_secu_quote.iloc[1:]['close'])\n",
    "arr_pre_close = np.array(df_secu_quote.shift(1).iloc[1:]['close'])\n",
    "arr_secu_daily_ret = arr_close / arr_pre_close - 1.\n",
    "\n",
    "# 取得基准复权行情数据\n",
    "quote_data_path = Path('/Volumes/DB/FactorDB/ElementaryFactor/mkt_daily_FQ/', '%s.csv' % benchmark_code)\n",
    "df_benchmark_quote = pd.read_csv(quote_data_path, names=quote_header,header=0)\n",
    "df_benchmark_quote = df_benchmark_quote[df_benchmark_quote['date'].isin(list(df_secu_quote.date))]\n",
    "df_benchmark_quote.reset_index(drop=True, inplace=True)\n",
    "# 计算基准的日收益率序列\n",
    "arr_close = np.array(df_benchmark_quote.iloc[1:]['close'])\n",
    "arr_pre_close = np.array(df_benchmark_quote.shift(1).iloc[1:]['close'])\n",
    "arr_benchmark_daily_ret = arr_close / arr_pre_close - 1.\n",
    "\n",
    "# 计算权重 - 指数移动加权平均\n",
    "T = len(arr_benchmark_dail_ret)\n",
    "time_spans = sorted(range(T), reverse=True)\n",
    "alpha = 1 - np.exp(np.log(0.5)/63)\n",
    "x = [1-alpha] * T\n",
    "y = [alpha] * (T - 1)\n",
    "y.insert(0,1)\n",
    "weights = np.float_power(x, time_spans) * y\n",
    "\n",
    "# 采用加权最小二乘法计算beta\n",
    "arr_benchmark_daily_ret = sm.add_constant(arr_benchmark_daily_ret)\n",
    "cap_model = sm.WLS(arr_secu_daily_ret, arr_benchmark_daily_ret, weights=weights)\n",
    "results = cap_model.fit()\n",
    "results.params"
   ]
  },
  {
   "cell_type": "markdown",
   "metadata": {},
   "source": [
    "# Momentum(动量因子)\n",
    "## 定义\n",
    "    Definintion:    1.0*RSTR\n",
    "\n",
    "    RSTR            Relative strength\n",
    "    \n",
    "Computed as the sum of excess log returns over the trailing T = 504 trading days with a lag of L=21 trading days,\n",
    "$$RSTR = \\sum_{i=L}^{T+L}w_t[ln(1+r_t)-ln(r+r_{ft}],\\tag{2}$$\n",
    "\n",
    "where $r_t$ is the stock return on day t, $r_{ft}$ is the risk-free return, and $w_t$ is an exponential weight with a half-life of 126 trading days.\n",
    "## 计算示例 "
   ]
  },
  {
   "cell_type": "code",
   "execution_count": 3,
   "metadata": {},
   "outputs": [
    {
     "data": {
      "text/plain": [
       "-0.0004597495866620215"
      ]
     },
     "execution_count": 3,
     "metadata": {},
     "output_type": "execute_result"
    }
   ],
   "source": [
    "secu_code = 'SH600000'\n",
    "calc_date = '2017-12-29'\n",
    "days_start = 504\n",
    "days_end = 21\n",
    "half_life = 126\n",
    "\n",
    "# 取得个股复权行情数据\n",
    "quote_header = ['code','date','open','high','low','close','vol','amount','turnover1','turnvoer2','factor']\n",
    "quote_data_path = Path('/Volumes/DB/FactorDB/ElementaryFactor/mkt_daily_FQ/', '%s.csv' % secu_code)\n",
    "df_secu_quote = pd.read_csv(quote_data_path,names=quote_header,header=0)\n",
    "# 使用过去第21个交易日到第504个交易日的复权行情数据\n",
    "df_secu_quote = df_secu_quote[df_secu_quote.date <= calc_date].tail(days_start+1)\n",
    "df_secu_quote = df_secu_quote.head(len(df_secu_quote)-days_end)\n",
    "df_secu_quote.reset_index(drop=True, inplace=True)\n",
    "# 计算个股的日对数收益率序列\n",
    "arr_close = np.array(df_secu_quote.iloc[1:]['close'])\n",
    "arr_pre_close = np.array(df_secu_quote.shift(1).iloc[1:]['close'])\n",
    "arr_secu_daily_ret = np.log(arr_close / arr_pre_close)\n",
    "# 计算权重 - 指数移动加权平均\n",
    "T = len(arr_secu_daily_ret)\n",
    "time_spans = sorted(range(T), reverse=True)\n",
    "alpha = 1 - np.exp(np.log(0.5)/half_life)\n",
    "x = [1-alpha] * T\n",
    "y = [alpha] * (T - 1)\n",
    "y.insert(0,1)\n",
    "weights = np.float_power(x, time_spans) * y\n",
    "# 计算RSTR\n",
    "rstr = np.sum(arr_secu_daily_ret * weights)\n",
    "rstr"
   ]
  },
  {
   "cell_type": "markdown",
   "metadata": {},
   "source": [
    "# Residual Volatility(残差波动率因子)\n",
    "    Definition:    0.74*DASTD + 0.16*CMRA + 0.10*HSIGMA\n",
    "## DASTD(Daily standard deviation)\n",
    "### 定义\n",
    "Computed as that the volatility of daily excess return over the past 252 trading days with a half-life of 42 trading days.\n",
    "\n",
    "是过去252个交易日日超额收益率波动率，按照指数加权权重加权平均，半衰期为42个交易日。\n",
    "$$DASTD = \\sqrt{\\sum_{t=1}^Tw_t(r_t-u(r))^2}\\tag{3}$$\n",
    "### 计算示例"
   ]
  },
  {
   "cell_type": "code",
   "execution_count": 4,
   "metadata": {},
   "outputs": [
    {
     "name": "stdout",
     "output_type": "stream",
     "text": [
      "DASTR factor of SH600000 = 0.009623\n"
     ]
    }
   ],
   "source": [
    "secu_code = 'SH600000'\n",
    "calc_date = '2017-12-29'\n",
    "trailing = 252\n",
    "half_life = 42\n",
    "\n",
    "# 取得个股复权行情数据\n",
    "quote_header = ['code','date','open','high','low','close','vol','amount','turnover1','turnvoer2','factor']\n",
    "quote_data_path = Path('/Volumes/DB/FactorDB/ElementaryFactor/mkt_daily_FQ/', '%s.csv' % secu_code)\n",
    "df_secu_quote = pd.read_csv(quote_data_path,names=quote_header,header=0)\n",
    "# 使用过去第252个交易日的复权行情数据\n",
    "df_secu_quote = df_secu_quote[df_secu_quote.date <= calc_date].tail(trailing+1)\n",
    "df_secu_quote.reset_index(drop=True, inplace=True)\n",
    "# 计算个股的日对数收益率序列及收益率均值\n",
    "arr_close = np.array(df_secu_quote.iloc[1:]['close'])\n",
    "arr_pre_close = np.array(df_secu_quote.shift(1).iloc[1:]['close'])\n",
    "arr_secu_daily_ret = np.log(arr_close / arr_pre_close)\n",
    "avg_daily_ret = np.mean(arr_secu_daily_ret)\n",
    "# 计算权重 - 指数移动加权平均\n",
    "T = len(arr_secu_daily_ret)\n",
    "time_spans = sorted(range(T), reverse=True)\n",
    "alpha = 1 - np.exp(np.log(0.5)/half_life)\n",
    "x = [1-alpha] * T\n",
    "y = [alpha] * (T - 1)\n",
    "y.insert(0,1)\n",
    "weights = np.float_power(x, time_spans) * y\n",
    "# 计算DASTD\n",
    "dastr = np.sqrt(np.sum((arr_secu_daily_ret - avg_daily_ret)**2 * weights))\n",
    "print('DASTR factor of %s = %f' % (secu_code, dastr))"
   ]
  },
  {
   "cell_type": "markdown",
   "metadata": {},
   "source": [
    "## CMRA(Cumulative range)\n",
    "### 定义\n",
    "This descriptor differentiates stocks that have experienced wide swing ove the last 12 months from those that have traded within a narrow range. Let $Z(T)$ be the cumulative excess log return over the past $T$ months, with each month defined as the previous 21 trading days\n",
    "\n",
    "$$Z(T) = \\sum_{\\tau=1}^T[ln(1+r_\\tau) - ln(1+r_{f\\tau})],\\tag{4}$$\n",
    "\n",
    "where $r_\\tau$ is the stock return for month $\\tau$(compounded over 21 days), and $r_{f\\tau}$ is the risk-free return. The cumulative range is given by\n",
    "\n",
    "$$CMRA = ln(1+Z_{max}) - ln(1+Z_{min}),\\tag{5}$$\n",
    "\n",
    "where $Z_{max}=max\\{Z(T)\\},Z_{min}=min\\{Z(T)\\}$, and $T=1,\\dots,12$.\n",
    "\n",
    "CMRA是过去12个月超额收益的离差，也是表征股票收益率的波动大小，$Z(T)$是过去$T$个月超额收益对数值的累计值，$Z(T)$是一个时间序列，$T=1,2,3,\\dots,12$。\n",
    "\n",
    "### 计算示例"
   ]
  },
  {
   "cell_type": "code",
   "execution_count": 17,
   "metadata": {},
   "outputs": [
    {
     "name": "stdout",
     "output_type": "stream",
     "text": [
      "[1.2360516965704125, 0.6957086657544711, 0.9012882959961206, 0.43819772404129387, 0.5613729469166041, 0.6686691726304281, 0.5502145100861439, 0.386266412569766, 0.3459228669708005, 0.3716733434024893, 0.430489363038373, 0.4961211099133826]\n",
      "CMRA factor of SZ002129 = 1.273462\n"
     ]
    }
   ],
   "source": [
    "secu_code = 'SZ002129'\n",
    "calc_date = '2017-12-29'\n",
    "trailing = 12\n",
    "days_scale = 21\n",
    "\n",
    "# 取得个股复权行情数据\n",
    "quote_header = ['code','date','open','high','low','close','vol','amount','turnover1','turnvoer2','factor']\n",
    "quote_data_path = Path('/Volumes/DB/FactorDB/ElementaryFactor/mkt_daily_FQ/', '%s.csv' % secu_code)\n",
    "df_secu_quote = pd.read_csv(quote_data_path,names=quote_header,header=0)\n",
    "# 使用过去第252个交易日的复权行情数据\n",
    "df_secu_quote = df_secu_quote[df_secu_quote.date <= calc_date].tail(trailing*days_scale+1)\n",
    "df_secu_quote.reset_index(drop=True, inplace=True)\n",
    "# print(df_secu_quote)\n",
    "# 计算个股的日对数收益率序列\n",
    "# arr_close = np.array(df_secu_quote.iloc[1:]['close'])\n",
    "# arr_pre_close = np.array(df_secu_quote.shift(1).iloc[1:]['close'])\n",
    "# arr_secu_daily_ret = np.log(arr_close / arr_pre_close)\n",
    "# print(arr_secu_daily_ret)\n",
    "# 从期初开始每隔days_scale个交易日累加日对数收益率\n",
    "# z = []\n",
    "# for t in range(1, trailing+1):\n",
    "#     k = t * days_scale -1\n",
    "#     if k > len(arr_secu_daily_ret)-1:\n",
    "#         k = len(arr_secu_daily_ret)-1\n",
    "#         z.append(np.sum(arr_secu_daily_ret[:k]))\n",
    "#         break\n",
    "#     else:\n",
    "#         z.append(np.sum(arr_secu_daily_ret[:k]))\n",
    "        \n",
    "\n",
    "# 计算每个月的个股变化率(1+r)\n",
    "z = []\n",
    "for t in range(1, trailing+1):\n",
    "    k = t * days_scale\n",
    "    if k > len(df_secu_quote)-1:\n",
    "        k = len(df_secu_quote)-1\n",
    "        z.append(df_secu_quote.iloc[k]['close']/df_secu_quote.iloc[0]['close'])\n",
    "        break\n",
    "    else:\n",
    "        z.append(df_secu_quote.iloc[k]['close']/df_secu_quote.iloc[0]['close'])\n",
    "\n",
    "\n",
    "\n",
    "print(z)\n",
    "cmra = np.log(max(z)) - np.log(min(z))\n",
    "print('CMRA factor of %s = %f' % (secu_code, cmra))"
   ]
  },
  {
   "cell_type": "markdown",
   "metadata": {},
   "source": [
    "# <a id='appendix'>附录：指数加权移动平均</a>\n",
    "指数加权移动平均的权重有两种表现形式，一种是递推公式，如下：\n",
    "\n",
    "$y_0 = x_0$\n",
    "\n",
    "$y_t = (1-\\alpha)y_{t-1} + \\alpha x_t$\n",
    "\n",
    "根据递推公式，可以得到\n",
    "\n",
    "$y_t = (1-\\alpha)^tx_0 + (1-\\alpha)^{t-1}\\alpha x_1 + \\ldots + (1-\\alpha)\\alpha x_{t-1} + \\alpha x_t$\n",
    "\n",
    "权重可以写为，\n",
    "\n",
    "$\n",
    "\\left\\{\n",
    "\\begin{array}{ll}\n",
    "w_i = (1-\\alpha)^i\\alpha & (i < t)\\\\\n",
    "w_i = (1-\\alpha)^i       & (i = t)\n",
    "\\end{array}\n",
    "\\right.\n",
    "$\n",
    "\n",
    "可以得到$\\sum_{i=0}^t = 1$.注意$i$表示距离现在时间，$i$越大，距离现在时间越长。\n",
    "\n",
    "在python中可以直接调用pandas.ewma()或者pandas.ewm().mean()实现。注意的是，默认参数为adjust=True，采用近似的权重，权重为$w_i=(1-\\alpha)^i$，当参数adjust=False，才会采用以上精确推算结果。\n",
    "\n",
    "半衰期$h$和参数$\\alpha$的关系为$\\alpha = 1 - e^{\\frac{ln(0.5)}{h}}$，这是因为最大权重$w_0 = \\alpha$，经过了$h$天之后权重为$w_h = (1-\\alpha)^h\\alpha$，两者之比$\\frac{w_h}{w_0}=(1-\\alpha)^h=0.5$，可以得出$\\alpha = 1 - e^{\\frac{ln(0.5)}{h}}$，也就是说经过了$h$天后，权重变成了初始权重的一半。"
   ]
  }
 ],
 "metadata": {
  "kernelspec": {
   "display_name": "Python 3",
   "language": "python",
   "name": "python3"
  },
  "language_info": {
   "codemirror_mode": {
    "name": "ipython",
    "version": 3
   },
   "file_extension": ".py",
   "mimetype": "text/x-python",
   "name": "python",
   "nbconvert_exporter": "python",
   "pygments_lexer": "ipython3",
   "version": "3.6.3"
  },
  "toc": {
   "nav_menu": {},
   "number_sections": true,
   "sideBar": true,
   "skip_h1_title": false,
   "toc_cell": false,
   "toc_position": {
    "height": "687px",
    "left": "0px",
    "right": "1266px",
    "top": "106px",
    "width": "174px"
   },
   "toc_section_display": "block",
   "toc_window_display": false
  }
 },
 "nbformat": 4,
 "nbformat_minor": 2
}
