{
 "cells": [
  {
   "cell_type": "markdown",
   "metadata": {},
   "source": [
    "<font size=6 face=\"黑体\">**SmartQ因子检验**</font>"
   ]
  },
  {
   "cell_type": "markdown",
   "metadata": {},
   "source": [
    "# 导入相应模块"
   ]
  },
  {
   "cell_type": "code",
   "execution_count": null,
   "metadata": {
    "collapsed": true
   },
   "outputs": [],
   "source": [
    "%pylab inline --no-import-all\n",
    "import pandas as pd\n",
    "import numpy as np\n",
    "import alphalens\n",
    "import datetime\n",
    "import os\n",
    "import tushare as ts"
   ]
  },
  {
   "cell_type": "markdown",
   "metadata": {},
   "source": [
    "# 定义相关函数"
   ]
  },
  {
   "cell_type": "code",
   "execution_count": null,
   "metadata": {
    "collapsed": true
   },
   "outputs": [],
   "source": [
    "class Cache(object):\n",
    "\n",
    "    def __init__(self, maxsize=100):\n",
    "        self.cache = {}\n",
    "        self.order = []     # least recently used first\n",
    "        self.maxsize = maxsize\n",
    "\n",
    "    def get(self, key):\n",
    "        try:\n",
    "            item = self.cache[key]  # KeyErroe if not present\n",
    "            self.order.remove(key)\n",
    "            self.order.append(key)\n",
    "        except KeyError:\n",
    "            item = None\n",
    "        return item\n",
    "\n",
    "    def set(self, key, value):\n",
    "        if key in self.cache:\n",
    "            self.order.remove(key)\n",
    "        elif len(self.cache) >= self.maxsize:\n",
    "            # discard least recently used item\n",
    "            del self.cache[self.order.pop(0)]\n",
    "        self.cache[key] = value\n",
    "        self.order.append(key)\n",
    "\n",
    "    def size(self):\n",
    "        return len(self.cache)"
   ]
  },
  {
   "cell_type": "code",
   "execution_count": null,
   "metadata": {
    "collapsed": true
   },
   "outputs": [],
   "source": [
    "utils_trading_days = pd.Series()\n",
    "ts_conn = ts.get_apis()\n",
    "df_SZZS = ts.bar(code='000001', conn=ts_conn, asset='INDEX')\n",
    "ts.close_apis(ts_conn)\n",
    "utils_trading_days = pd.Series(df_SZZS.index).sort_values()\n",
    "\n",
    "def get_trading_days(start=None, end=None, ndays=None, ascending=True):\n",
    "    \"\"\"\n",
    "    取得交易日列表，分三种方式取得\n",
    "    （1）指定开始、结束日期，即start和end不为None，此时忽略参数ndays\n",
    "    （2）指定开始日期和天数，即start和ndays不为None，而end为None\n",
    "    （3）指定结束日期和天数，即end和ndays为None，而start为None\n",
    "    --------\n",
    "    :param start: datetime-like or str\n",
    "        开始日期，格式：YYYY-MM-DD\n",
    "    :param end: datetime-like or str\n",
    "        结束日期，格式：YYYY-MM-DD\n",
    "    :param ndays: int\n",
    "        交易日天数\n",
    "    :param ascending: bool，默认True\n",
    "        是否升序排列\n",
    "    :return:\n",
    "    --------\n",
    "        Series of pandas.Timestamp，交易日列表，默认按交易日升序排列\n",
    "    \"\"\"\n",
    "    if start is not None and end is not None:\n",
    "        trading_days = utils_trading_days[(utils_trading_days >= start) & (utils_trading_days <= end)]\n",
    "    elif start is not None and ndays is not None:\n",
    "        trading_days = utils_trading_days[utils_trading_days >= start].iloc[:ndays]\n",
    "    elif end is not None and ndays is not None:\n",
    "        trading_days = utils_trading_days[utils_trading_days <= end].iloc[-ndays:]\n",
    "    elif start is not None:\n",
    "        trading_days = utils_trading_days[utils_trading_days >= start]\n",
    "    elif end is not None:\n",
    "        trading_days = utils_trading_days[utils_trading_days <= end]\n",
    "    elif ndays is not None:\n",
    "        trading_days = utils_trading_days[-ndays:]\n",
    "    else:\n",
    "        trading_days = utils_trading_days\n",
    "    trading_days = trading_days.reset_index(drop=True)\n",
    "    if not ascending:\n",
    "        trading_days = trading_days.sort_values(ascending=False)\n",
    "    return trading_days\n",
    "# ------------------------------------\n",
    "def to_date(date_like):\n",
    "    if isinstance(date_like, datetime.datetime) or isinstance(date_like, datetime.date):\n",
    "        return date_like\n",
    "    else:\n",
    "        return datetime.datetime.strptime(date_like.replace('-', ''), '%Y%m%d')\n",
    "# -------------------------------------\n",
    "def is_month_end(trading_day):\n",
    "    \"\"\"\n",
    "    是否时月末的交易日\n",
    "    :param trading_day: datetime-like, str\n",
    "    :return: bool\n",
    "    \"\"\"\n",
    "    trading_day = to_date(trading_day)\n",
    "    trading_days = get_trading_days(start=trading_day, ndays=2)\n",
    "    if trading_day != trading_days[0]:\n",
    "        return False\n",
    "    else:\n",
    "        if trading_day.month == trading_days[1].month:\n",
    "            return False\n",
    "        else:\n",
    "            return True\n",
    "# ------------------------------------\n",
    "MKT_DAILY_FQ_HEADER = ['code', 'date', 'open', 'high', 'low', 'close', 'vol', \n",
    "                       'amount', 'turnover1', 'turnover2', 'factor']\n",
    "DataCache = Cache(3000)\n",
    "def is_normal_traded(code, trading_day):\n",
    "    \"\"\"\n",
    "    个股在指定交易日是否正常交易\n",
    "    \"\"\"\n",
    "    daily_mkt_path = '/Users/davidyujun/Dropbox/FactorDB/ElementaryFactor/mkt_daily_FQ/%s.csv' % code\n",
    "    if not os.path.isfile(daily_mkt_path):\n",
    "        return False\n",
    "    key = '%s_daily_mkt_%s' % (code, to_date(trading_day).strftime('%Y%m%d'))\n",
    "    df_daily_mkt = DataCache.get(key)\n",
    "    if df_daily_mkt is None:\n",
    "        df_daily_mkt = pd.read_csv(daily_mkt_path, \n",
    "                                   names=MKT_DAILY_FQ_HEADER, \n",
    "                                   parse_dates=[1],\n",
    "                                   header=0)\n",
    "        DataCache.set(key, df_daily_mkt)\n",
    "    \n",
    "    if len(df_daily_mkt[df_daily_mkt.date==to_date(trading_day)]) > 0:\n",
    "        return True\n",
    "    else:\n",
    "        return False"
   ]
  },
  {
   "cell_type": "markdown",
   "metadata": {},
   "source": [
    "# 构建数据结构"
   ]
  },
  {
   "cell_type": "markdown",
   "metadata": {},
   "source": [
    "## 构建SmartQ因子数据结构"
   ]
  },
  {
   "cell_type": "code",
   "execution_count": null,
   "metadata": {
    "collapsed": true
   },
   "outputs": [],
   "source": [
    "start_date = '2012-12-31'\n",
    "end_date = '2-16-09-30'\n",
    "# 取得开始结束日期间的交易日数据\n",
    "trading_days = get_trading_days(start_date, end_date)\n",
    "# 遍历交易日数据，如果是月末，则读取SmartQ因子载荷值\n",
    "factor_data = pd.DataFrame()\n"
   ]
  }
 ],
 "metadata": {
  "kernelspec": {
   "display_name": "Python 3",
   "language": "python",
   "name": "python3"
  },
  "language_info": {
   "codemirror_mode": {
    "name": "ipython",
    "version": 3
   },
   "file_extension": ".py",
   "mimetype": "text/x-python",
   "name": "python",
   "nbconvert_exporter": "python",
   "pygments_lexer": "ipython3",
   "version": "3.6.3"
  },
  "toc": {
   "nav_menu": {},
   "number_sections": true,
   "sideBar": true,
   "skip_h1_title": false,
   "toc_cell": false,
   "toc_position": {},
   "toc_section_display": "block",
   "toc_window_display": false
  }
 },
 "nbformat": 4,
 "nbformat_minor": 2
}
