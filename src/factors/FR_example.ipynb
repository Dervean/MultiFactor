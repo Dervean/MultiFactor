{
 "cells": [
  {
   "cell_type": "markdown",
   "metadata": {},
   "source": [
    "横截面回归：\n",
    "\n",
    "$$FR=\\beta_1log(FAMC)+\\beta_220DMom+\\beta_3Turn+\\beta_460DVol+\\sum_{i=1}^{28}\\beta_{5i}\\cdot Citiclnd_i+\\epsilon\\tag{1}$$\n",
    "\n",
    "假设个股1属于申万一级行业的银行（申万一级行业总共有28个行业,假设$Citiclnd_1$为银行业），那么在Citiclnd变量中，银行变量=1，其他行业变量=0。那么上式右边的可变为：\n",
    "\n",
    "$$\\beta_1log(FAMC)+\\beta_220DMom+\\beta_3Turn+\\beta_460DVol+\\beta_{51}\\cdot1+\\sum_{i=2}^{28}\\cdot0+\\epsilon$$\n",
    "\n",
    "用向量来表示就是:\n",
    "\n",
    "$$\n",
    "\\left[\n",
    "\\begin{matrix}\n",
    "log(FAMC) & 20DMom & Turn & 60DVol & 1 & 0 & \\cdots & 0 & \\epsilon\n",
    "\\end{matrix}\n",
    "\\right]\n",
    "$$\n",
    "\n",
    "假设个股2属于采掘业（假设采掘业是申万一级行业中的第二个行业$Citiclnd_2$），那么对于个股2，采掘业变量=1，其他行业变量=0，把个股1、2结合起来，用矩阵表示就是：\n",
    "\n",
    "$$\n",
    "\\left[\n",
    "\\begin{matrix}\n",
    "log(FAMC_1) & 20DMom_1 & Turn_1 & 60DVol_1 & 1 & 0 & \\cdots & 0 & \\epsilon_1 \\\\\n",
    "log(FAMC_2) & 20DMom_2 & Turn_2 & 60DVol_2 & 0 & 1 & \\cdots & 0 & \\epsilon_2\n",
    "\\end{matrix}\n",
    "\\right]\n",
    "$$\n",
    "\n",
    "如果样本股中有n只个股，那么可以表示为：\n",
    "\n",
    "$$\n",
    "\\left[\n",
    "\\begin{matrix}\n",
    "log(FAMC_1) & 20DMom_1 & Turn_1 & 60DVol_1 & 1 & 0 & \\cdots & 0 & \\epsilon_1 \\\\\n",
    "log(FAMC_2) & 20DMom_2 & Turn_2 & 60DVol_2 & 0 & 1 & \\cdots & 0 & \\epsilon_2 \\\\\n",
    "log(FAMC_i) & 20DMom_i & Turn_i & 60DVol_i & 0 & \\cdots & \\cdots & 0 & \\epsilon_i \\\\\n",
    "\\cdots &          &        & \\cdots   &       &            & \\cdots \\\\\n",
    "log(FAMC_n) & 20DMom_n & Turn_n & 60DVol_n & 0 & \\cdots & \\cdots & 0 & \\epsilon_n \\\\\n",
    "\\end{matrix}\n",
    "\\right]\\tag{2}\n",
    "$$\n",
    "\n",
    "假设$FR_i$是个股i提纯前的因子值，那么就可以根据公式（1）进行回归计算，得到各个变量的$\\beta_i$值和残差$\\epsilon_i$，而残差$\\epsilon_i$就是个股i提纯后的因子值。"
   ]
  }
 ],
 "metadata": {
  "kernelspec": {
   "display_name": "Python 3",
   "language": "python",
   "name": "python3"
  },
  "language_info": {
   "codemirror_mode": {
    "name": "ipython",
    "version": 3
   },
   "file_extension": ".py",
   "mimetype": "text/x-python",
   "name": "python",
   "nbconvert_exporter": "python",
   "pygments_lexer": "ipython3",
   "version": "3.6.3"
  },
  "toc": {
   "nav_menu": {},
   "number_sections": true,
   "sideBar": true,
   "skip_h1_title": false,
   "toc_cell": false,
   "toc_position": {},
   "toc_section_display": "block",
   "toc_window_display": false
  }
 },
 "nbformat": 4,
 "nbformat_minor": 2
}
